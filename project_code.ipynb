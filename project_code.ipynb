{
 "cells": [
  {
   "cell_type": "markdown",
   "metadata": {},
   "source": [
    "# Biophysics Project"
   ]
  },
  {
   "cell_type": "code",
   "execution_count": 1,
   "metadata": {},
   "outputs": [],
   "source": [
    "from Bio.PDB import *\n",
    "from sys import stdin\n",
    "\n",
    "# PLEASE INSTALL tqdm through pip, it will show progress bars of execution!\n",
    "# Otherwise simply remove the tqdm from any iterator\n",
    "from tqdm import tqdm"
   ]
  },
  {
   "cell_type": "code",
   "execution_count": 2,
   "metadata": {},
   "outputs": [
    {
     "name": "stdout",
     "output_type": "stream",
     "text": [
      "Please enter your working directory.\n",
      "It should contain the cleaned PDB file. Remember the final '/' : /home/dbj/aa_school/biophysics_project/\n"
     ]
    }
   ],
   "source": [
    "wd = input( \"Please enter your working directory.\\nIt should contain the cleaned PDB file. Remember the final '/' : \" )"
   ]
  },
  {
   "cell_type": "markdown",
   "metadata": {},
   "source": [
    "Make sure this jupyter notebook exists in the same directory as the _cleaned-6m0j.pdb_ file!"
   ]
  },
  {
   "cell_type": "code",
   "execution_count": 3,
   "metadata": {},
   "outputs": [],
   "source": [
    "st = PDBParser(PERMISSIVE=1).get_structure(\"6m0j\", wd + \"/6m0j_fixed.pdb\")"
   ]
  },
  {
   "cell_type": "markdown",
   "metadata": {},
   "source": [
    "# Interface as calculated by distance\n",
    "\n",
    "#### The following functions relate to the generation of an interface of residues based on distance. The governing principal behind these functions is that given some threshold, we must identify residues at or below the specified distance between any given chains within our structure."
   ]
  },
  {
   "cell_type": "markdown",
   "metadata": {},
   "source": [
    "We will consider the distance between two residues as the smallest distance between any pair of atoms from the pair of aminoacids. \n",
    "\n",
    "Alternative ways of defining distance could be, for example, the distance between the center of mass of a given residue pair, which would be computationally cheaper.\n",
    "\n",
    "    _____________________________________________________________\n",
    "\n",
    "#### minimal_residue_distance ( a_amino, b_amino ) \n",
    "    This function receives as input two residues within the \n",
    "    structure, and returns the distance between them."
   ]
  },
  {
   "cell_type": "code",
   "execution_count": 4,
   "metadata": {},
   "outputs": [],
   "source": [
    "def minimal_residue_distance(a_amino, b_amino):\n",
    "    smallest = None\n",
    "    \n",
    "    for a_atom in a_amino:\n",
    "        for b_atom in b_amino:\n",
    "            if smallest is not None:\n",
    "                dist = a_atom - b_atom\n",
    "                if dist < smallest:\n",
    "                    smallest = dist\n",
    "            else:\n",
    "                smallest = a_atom - b_atom\n",
    "    \n",
    "    return(smallest)"
   ]
  },
  {
   "cell_type": "markdown",
   "metadata": {},
   "source": [
    "    _____________________________________________________________\n",
    "#### distances_chains( st )\n",
    "    This function receives as input our cleaned PDB structure and \n",
    "    returns a dictionary of distances associated to every residue \n",
    "    pair. This step is computationally intensive but allows us to\n",
    "    change the interface distance afterwards by accessing the\n",
    "    generated dictionary."
   ]
  },
  {
   "cell_type": "code",
   "execution_count": 5,
   "metadata": {},
   "outputs": [],
   "source": [
    "def distances_chains(st):\n",
    "    d_pairs = {}\n",
    "    prev_chain = None\n",
    "\n",
    "    for chain in st:\n",
    "\n",
    "        if prev_chain is None:\n",
    "            prev_chain = chain\n",
    "\n",
    "        else:\n",
    "            for a_residue in tqdm(st[prev_chain.id]):\n",
    "                for b_residue in st[chain.id]:\n",
    "                    dist = minimal_residue_distance(a_residue, b_residue)\n",
    "\n",
    "                    if dist in d_pairs:\n",
    "                        d_pairs[dist].append((a_residue, b_residue))\n",
    "                    else:\n",
    "                        d_pairs[dist] = [(a_residue, b_residue)]\n",
    "    return(d_pairs)"
   ]
  },
  {
   "cell_type": "markdown",
   "metadata": {},
   "source": [
    "    _____________________________________________________________\n",
    "#### d_pairs\n",
    "    This object will store the distance of all res-res pairs \n",
    "    between chains"
   ]
  },
  {
   "cell_type": "code",
   "execution_count": 6,
   "metadata": {},
   "outputs": [
    {
     "name": "stderr",
     "output_type": "stream",
     "text": [
      "100%|██████████| 597/597 [01:10<00:00,  8.47it/s]\n"
     ]
    }
   ],
   "source": [
    "d_pairs = distances_chains(st[0])"
   ]
  },
  {
   "cell_type": "markdown",
   "metadata": {},
   "source": [
    "The benefit of using a jupyter notebooks is that the computational intensity of the function call *distances_chains * need only be executed  once during a session. After that, the genereated dictionary of pairs is stored in memory."
   ]
  },
  {
   "cell_type": "markdown",
   "metadata": {},
   "source": [
    "    _____________________________________________________________\n",
    "#### interface(  threshold )\n",
    "    This function will receive as input an integer represnting\n",
    "    the threshold distance for our interface and return a pair\n",
    "    of sets containing all residues in hypothetical chain A and\n",
    "    hypothetical chain B. For the purposes of this project,\n",
    "    chain \"A\" and chian \"E\" respectively.\n",
    "    \n",
    "    This function will take advantage of the pre-computed distance\n",
    "    values"
   ]
  },
  {
   "cell_type": "code",
   "execution_count": 7,
   "metadata": {},
   "outputs": [],
   "source": [
    "def interface(threshold):\n",
    "    interface_residues = {\"Total\" : set(), \"chain_A\" : set(), \"chain_B\" : set()}\n",
    "\n",
    "    for distance in sorted(d_pairs):\n",
    "        if distance <= threshold:\n",
    "            for pairs in d_pairs[distance]:\n",
    "                interface_residues[\"Total\"].add(pairs[0])\n",
    "                interface_residues[\"Total\"].add(pairs[1])\n",
    "                interface_residues[\"chain_A\"].add(pairs[0])\n",
    "                interface_residues[\"chain_B\"].add(pairs[1])\n",
    "        else:\n",
    "            return(interface_residues)\n",
    "\n",
    "    return(interface_residues)"
   ]
  },
  {
   "cell_type": "markdown",
   "metadata": {},
   "source": [
    "# Energy Calculations:\n",
    "\n",
    "#### The following are functions and classess related to the calculation of energy. To do so, we will associate each atom with its known physico-chemical properties that are relevant for our energy calculations (such as charge, energy of solvation of external residues, Van derWaal parameters). \n",
    "\n",
    "    ____________________________________________________________"
   ]
  },
  {
   "cell_type": "markdown",
   "metadata": {},
   "source": [
    "## Setup \n",
    "#### Associating atoms within our structure to known/calculated properties"
   ]
  },
  {
   "cell_type": "code",
   "execution_count": 8,
   "metadata": {},
   "outputs": [],
   "source": [
    "import argparse\n",
    "import sys\n",
    "import os\n",
    "import math\n",
    "\n",
    "from Bio.PDB.PDBParser import PDBParser\n",
    "from Bio.PDB.NACCESS import NACCESS_atomic\n",
    "from Bio.PDB.PDBIO import PDBIO, Select"
   ]
  },
  {
   "cell_type": "code",
   "execution_count": 9,
   "metadata": {},
   "outputs": [],
   "source": [
    "class ResiduesDataLib():\n",
    "    def __init__(self, fname):\n",
    "        self.residue_data = {}\n",
    "        try:\n",
    "            fh = open(fname, \"r\")\n",
    "        except OSError:\n",
    "            print(\"#ERROR while loading library file (\", fname, \")\")\n",
    "            sys.exit(2)\n",
    "        for line in fh:\n",
    "            if line[0] == '#':\n",
    "                continue\n",
    "            data = line.split()\n",
    "            r = Residue(data)\n",
    "            self.residue_data[r.id] = r\n",
    "        self.nres = len(self.residue_data)\n",
    "\n",
    "    def get_params(self, resid, atid):\n",
    "        atom_id = resid + ':' + atid\n",
    "        if atom_id in self.residue_data:\n",
    "            return self.residue_data[atom_id]\n",
    "        else:\n",
    "            print(\"WARNING: atom not found in library (\", atom_id, ')')\n",
    "            return None\n",
    "\n",
    "class Residue():\n",
    "    def __init__(self,data):\n",
    "        self.id     = data[0]+':'+data[1]\n",
    "        self.at_type = data[2]\n",
    "        self.charge  = float(data[3])\n",
    "        \n",
    "class AtomType():\n",
    "    def __init__(self, data):\n",
    "        self.id   = data[0]\n",
    "        self.eps  = float(data[1])\n",
    "        self.sig  = float(data[2])\n",
    "        self.mass = float(data[3])\n",
    "        self.fsrf = float(data[4])\n",
    "        self.rvdw = self.sig * 0.5612\n",
    "        \n",
    "class VdwParamset(): #extracted from GELPI's github\n",
    "    #parameters for the VdW\n",
    "    def __init__ (self, file_name):\n",
    "        self.at_types = {}\n",
    "        try:\n",
    "            fh = open(file_name, \"r\")\n",
    "        except OSError:\n",
    "            print (\"#ERROR while loading parameter file (\", file_name, \")\")\n",
    "            sys.exit(2)\n",
    "        for line in fh:\n",
    "            if line[0] == '#':\n",
    "                continue\n",
    "            data = line.split()\n",
    "            self.at_types[data[0]] = AtomType(data)\n",
    "        self.ntypes = len(self.at_types)\n",
    "        fh.close()"
   ]
  },
  {
   "cell_type": "markdown",
   "metadata": {},
   "source": [
    "### Notice the file extensions\n",
    "File extensions are irrelevant as it pertains to amino-acid library and vanderwaal's parameter files. For the script to work, either modify the file names to reflect your currentfollowing two blocks of code OR ensure that the files aaLib and vdwprm are in txt format"
   ]
  },
  {
   "cell_type": "code",
   "execution_count": 10,
   "metadata": {},
   "outputs": [],
   "source": [
    "# loading residue library from data/aaLib.lib\n",
    "residue_library = ResiduesDataLib( wd + 'aaLib.txt')"
   ]
  },
  {
   "cell_type": "code",
   "execution_count": 11,
   "metadata": {},
   "outputs": [],
   "source": [
    "# loading VdW parameters\n",
    "ff_params = VdwParamset( wd + 'vdwprm.txt')"
   ]
  },
  {
   "cell_type": "code",
   "execution_count": 12,
   "metadata": {},
   "outputs": [],
   "source": [
    "def residue_id(res):\n",
    "    '''Returns readable residue id'''\n",
    "    return '{} {}{}'.format(res.get_resname(), res.get_parent().id, res.id[1])\n",
    "\n",
    "def atom_id(at):\n",
    "    '''Returns readable atom id'''\n",
    "    return '{}.{}'.format(residue_id(at.get_parent()), at.id)\n",
    "\n",
    "def add_atom_parameters(st, res_lib, ff_params):\n",
    "    ''' Adds parameters from libraries to atom .xtra field\n",
    "        For not recognized atoms, issues a warning and put default parameters\n",
    "    '''\n",
    "    for at in st.get_atoms():\n",
    "        resname = at.get_parent().get_resname()\n",
    "        params = res_lib.get_params(resname, at.id)\n",
    "        if not params:\n",
    "            print(\"WARNING: residue/atom pair not in library (\"+atom_id(at) + ')')\n",
    "            at.xtra['atom_type'] = at.element\n",
    "            at.xtra['charge'] = 0\n",
    "        else:\n",
    "            at.xtra['atom_type'] = params.at_type\n",
    "            at.xtra['charge'] = params.charge\n",
    "        at.xtra['vdw'] = ff_params.at_types[at.xtra['atom_type']]"
   ]
  },
  {
   "cell_type": "markdown",
   "metadata": {},
   "source": [
    "### Add atom parameters Warnings\n",
    "    If the execution of the following block of code produces some type of warning of the type \n",
    "    \"WARNING:atom not found in library ... \" this means that either: \n",
    "        \n",
    "        there are atoms in the parsed PDB file that do not exist in the amino acid library file, \n",
    "        OR \n",
    "        the atoms in the aaLib file have different names than those of the parsed structure.\n",
    "        \n",
    "    If the latter is the case, manually edit the aaLib file to reflect the atoms of your parsed PDB file."
   ]
  },
  {
   "cell_type": "code",
   "execution_count": 13,
   "metadata": {},
   "outputs": [
    {
     "name": "stdout",
     "output_type": "stream",
     "text": [
      "WARNING: atom not found in library ( GLY:OXT )\n",
      "WARNING: residue/atom pair not in library (GLY E526.OXT)\n"
     ]
    }
   ],
   "source": [
    "add_atom_parameters(st, residue_library, ff_params)"
   ]
  },
  {
   "cell_type": "markdown",
   "metadata": {},
   "source": [
    "# Important : NACCESS\n",
    "\n",
    "If NACCESS does not exist in your working directory, follow from step 3.\n",
    "\n",
    "Otherwise if some type of error emerges when executing the block of code below, the easiest way to trouble shoot would be to reinstall NACCESS from the beginning and recompute the relevant surface:\n",
    "\n",
    "    1) Make sure you're in the correct working directory ( should contain the PDB file )\n",
    "    \n",
    "    2) Delete the malfunctioning NACCESS ( you may need to do \"sudo rm -r soft\" )\n",
    "        rm -r soft\n",
    "        \n",
    "    3) Download the NACCESS files and extract the \"soft\" directory into your working directory\n",
    "    \n",
    "    4) Install the naccess utility through csh ( you may need to download it if it isn't present in your system )\n",
    "        csh install.scr\n",
    "    \n",
    "    5) Compute the relevant surface to genereate an ASA file that indicates the\n",
    "       accessibility of atoms within our structure:\n",
    "        ./naccess ../../6m0j_fixed.pdb\n",
    "\n",
    "    6) Check that the .asa file has been created!\n",
    "    "
   ]
  },
  {
   "cell_type": "code",
   "execution_count": 14,
   "metadata": {},
   "outputs": [
    {
     "name": "stdout",
     "output_type": "stream",
     "text": [
      "WARNING: atom not found in library ( GLY:OXT )\n",
      "WARNING: residue/atom pair not in library (GLY E526.OXT)\n"
     ]
    }
   ],
   "source": [
    "parser = PDBParser(PERMISSIVE=1)\n",
    "\n",
    "NACCESS_BINARY = wd + 'soft/NACCESS/naccess'\n",
    "\n",
    "srf = NACCESS_atomic(st[0], naccess_binary=NACCESS_BINARY)\n",
    "\n",
    "# Prepare surfaces for the separate chains\n",
    "# Alternatively the twp PDB files can be prepared outside and parsed here\n",
    "\n",
    "io = PDBIO()\n",
    "st_chains = {}\n",
    "# Using BioIO trick (see tutorial) to select chains\n",
    "class SelectChain(Select):\n",
    "    def __init__(self, chid):\n",
    "        self.id = chid\n",
    "\n",
    "    def accept_chain(self, chain):\n",
    "        if chain.id == self.id:\n",
    "            return 1\n",
    "        else:\n",
    "            return 0\n",
    "\n",
    "for ch in st[0]:\n",
    "    io.set_structure(st)\n",
    "    io.save('tmp.pdb', SelectChain(ch.id))\n",
    "    st_chains[ch.id] = parser.get_structure('stA', 'tmp.pdb')\n",
    "    add_atom_parameters(st_chains[ch.id], residue_library, ff_params)\n",
    "    srfA = NACCESS_atomic(st_chains[ch.id][0], naccess_binary=NACCESS_BINARY)\n",
    "os.remove('tmp.pdb')"
   ]
  },
  {
   "cell_type": "markdown",
   "metadata": {},
   "source": [
    "# Computing Energies:\n",
    "\n",
    "    For the purposes of reusability, the following functions \n",
    "    have variables with names such as resA resB or atom_a atom_b. \n",
    "\n",
    "    These names simply indicate that the given residue/atom \n",
    "    pertains to a different chain - not to be confused with \n",
    "    the actual chain names in our PDB structures (in our \n",
    "    working example, chain A and chain E).\n"
   ]
  },
  {
   "cell_type": "markdown",
   "metadata": {},
   "source": [
    "#### For the sake of accessibility later on in the workflow, any function that calculates energy associated with a given residue will check whether the current atom is present in the ala_atoms set. If so, we can consider a seperate total energy only considering these atoms as the energy contribution that mutating the given residue to Alanine would produce."
   ]
  },
  {
   "cell_type": "code",
   "execution_count": 15,
   "metadata": {},
   "outputs": [],
   "source": [
    "ala_atoms = {'N', 'H', 'CA', 'HA', 'C', 'O', 'CB', 'HB', 'HB1', 'HB2', 'HB3', 'HA1', 'HA2', 'HA3'}"
   ]
  },
  {
   "cell_type": "markdown",
   "metadata": {},
   "source": [
    "### Electrostatics and Van derwaals components:"
   ]
  },
  {
   "cell_type": "code",
   "execution_count": 16,
   "metadata": {},
   "outputs": [],
   "source": [
    "def MH_diel(r):\n",
    "    '''Mehler-Solmajer dielectric'''\n",
    "    return 86.9525 / (1 - 7.7839 * math.exp(-0.3153 * r)) - 8.5525\n",
    "\n",
    "def elec_int(at1, at2, r):\n",
    "    '''Electrostatic interaction energy between two atoms at r distance'''\n",
    "    return 332.16 * at1.xtra['charge'] * at2.xtra['charge'] / MH_diel(r) / r\n",
    "\n",
    "def vdw_int(at1, at2, r):\n",
    "    '''Vdw interaction energy between two atoms'''\n",
    "    eps12 = math.sqrt(at1.xtra['vdw'].eps * at2.xtra['vdw'].eps)\n",
    "    sig12_2 = at1.xtra['vdw'].sig * at2.xtra['vdw'].sig\n",
    "    return 4 * eps12 * (sig12_2**6/r**12 - sig12_2**3/r**6)"
   ]
  },
  {
   "cell_type": "markdown",
   "metadata": {},
   "source": [
    "### residue_interaction_energy ( a_amino, b_amino)\n",
    "Recieves an amino acid pair as input to calculate associated interaction energy, returns the vanderwaals and electrostatic interactions between these residue pairs and the energy of interaction when a_amino is \"mutated\" for alanine.\n"
   ]
  },
  {
   "cell_type": "code",
   "execution_count": 17,
   "metadata": {},
   "outputs": [],
   "source": [
    "def residue_interaction_energy(a_amino, b_amino):\n",
    "    energy     = {'elec' : 0, 'vdw' : 0, 'total' : 0}\n",
    "    ala_energy = {'elec' : 0, 'vdw' : 0, 'total' : 0}\n",
    "\n",
    "    for a_atom in a_amino:\n",
    "        for b_atom in b_amino:\n",
    "            r    = a_atom - b_atom\n",
    "            elec = elec_int(a_atom, b_atom, r)\n",
    "            vdw  = vdw_int( a_atom, b_atom, r)\n",
    "            \n",
    "            energy['elec' ] += elec\n",
    "            energy['vdw'  ] += vdw\n",
    "            energy['total'] += vdw + elec\n",
    "\n",
    "            \n",
    "            if a_atom.id in ala_atoms:\n",
    "                ala_energy['elec' ] += elec\n",
    "                ala_energy['vdw'  ] += vdw\n",
    "                ala_energy['total'] += vdw + elec\n",
    "\n",
    "    return(energy, ala_energy)"
   ]
  },
  {
   "cell_type": "markdown",
   "metadata": {},
   "source": [
    "### calc_solvation (st, res)\n",
    "Receives a structure and residue as input. \n",
    "Returns a tuple with the energy of solvation of said residue with respect to the structure for the unmutated and ala-mutated case\n",
    "    \n",
    "    Important: when calculating the solvation of the seperate\n",
    "    structures (i.e solvation of chains NOT of complex) we utilize\n",
    "    a previously created object st_chains that only contains the \n",
    "    residues of the specified chain"
   ]
  },
  {
   "cell_type": "code",
   "execution_count": 18,
   "metadata": {},
   "outputs": [],
   "source": [
    "def calc_solvation(st, res):\n",
    "    '''Solvation energy based on ASA'''\n",
    "    solv = 0\n",
    "    solv_ala = 0\n",
    "    for at in res.get_atoms():\n",
    "        if 'EXP_NACCESS' not in at.xtra:\n",
    "            continue\n",
    "        s = float(at.xtra['EXP_NACCESS'])* at.xtra['vdw'].fsrf\n",
    "        solv += s\n",
    "        if at.id in ala_atoms:\n",
    "            solv_ala += s\n",
    "    return solv, solv_ala\n"
   ]
  },
  {
   "cell_type": "markdown",
   "metadata": {},
   "source": [
    "## Total Interaction Energy (considering all residues):"
   ]
  },
  {
   "cell_type": "markdown",
   "metadata": {},
   "source": [
    "Below we have have a function that will iterate across all residues in chainA, and for each residue in chainA it will iterate across each residue in chainB, adding the corresponding interaction and slolvation energies.\n",
    "\n",
    "Note that the way we've factored the function is for legibility and clarity of the underlying computations. It would clearly be more efficient to calculate ABsolv and the Asolv/Bsolv in the outer for loop.\n",
    "Additionally"
   ]
  },
  {
   "cell_type": "code",
   "execution_count": 241,
   "metadata": {},
   "outputs": [],
   "source": [
    "def calc_total_energy():\n",
    "    total_energy = 0\n",
    "\n",
    "    for resA in tqdm(st[0][\"A\"]):\n",
    "        for resB in st[0][\"E\"]:\n",
    "            ch = resA.get_parent()\n",
    "        \n",
    "            elec_vdw = residue_interaction_energy( resA  , resB )[0] # take position [0] because that corresponds to unmutated energy of resA\n",
    "            ABsolv   = calc_solvation( st[0]             , resA )[0] #  ''     ''     ''    ''    ''      ''      ''    ''       ''   ''  ''\n",
    "            Asolv    = calc_solvation( st_chains[ ch.id ], resA )[0]\n",
    "\n",
    "            total_energy += elec_vdw[\"total\"] + ABsolv - Asolv\n",
    "\n",
    "    for resB in tqdm(st[0][\"E\"]):\n",
    "        for resA in st[0][\"A\"]:\n",
    "            ch = resB.get_parent()\n",
    "        \n",
    "            elec_vdw = residue_interaction_energy( resB   , resA )[0] # take position [0] because that corresponds to unmutated energy of resB\n",
    "            ABsolv   = calc_solvation( st[0]              , resB )[0] #  ''     ''     ''    ''    ''      ''      ''    ''       ''   ''  ''\n",
    "            Bsolv    = calc_solvation( st_chains[ ch.id ] , resB )[0]\n",
    "        \n",
    "\n",
    "            total_energy += elec_vdw[\"total\"] + ABsolv - Bsolv\n",
    "\n",
    "    \n",
    "    print ( f' Total energy of interaction considering all residues is {total_energy}' )\n",
    "    return( total_energy )"
   ]
  },
  {
   "cell_type": "code",
   "execution_count": 242,
   "metadata": {},
   "outputs": [
    {
     "name": "stdout",
     "output_type": "stream",
     "text": [
      "Do you want to calculate all energy considering all residues?\n",
      "The computatinon will take ~ 5 minutes\n",
      "Answer Y/N\n",
      "\n",
      "Y\n"
     ]
    },
    {
     "name": "stderr",
     "output_type": "stream",
     "text": [
      "100%|██████████| 597/597 [05:37<00:00,  1.77it/s]\n",
      "100%|██████████| 194/194 [05:27<00:00,  1.69s/it]"
     ]
    },
    {
     "name": "stdout",
     "output_type": "stream",
     "text": [
      " Total energy of interaction considering all residues is -180.7173174234688\n"
     ]
    },
    {
     "name": "stderr",
     "output_type": "stream",
     "text": [
      "\n"
     ]
    }
   ],
   "source": [
    "calc_total_boolean = input(\"Do you want to calculate all energy considering all residues?\\nThe computatinon will take ~ 5 minutes\\nAnswer Y/N\\n\\n\")\n",
    "\n",
    "if calc_total_boolean == \"Y\":\n",
    "    total_energy = calc_total_energy()\n",
    "else:\n",
    "    pass"
   ]
  },
  {
   "cell_type": "markdown",
   "metadata": {},
   "source": [
    "## Interface Interaction Energy (considering interface residues):"
   ]
  },
  {
   "cell_type": "markdown",
   "metadata": {},
   "source": [
    "#### Identify Interface residues at or below threshold distance:"
   ]
  },
  {
   "cell_type": "code",
   "execution_count": 19,
   "metadata": {},
   "outputs": [
    {
     "name": "stdout",
     "output_type": "stream",
     "text": [
      "Specify threshold distance for interface :\n",
      "8\n"
     ]
    }
   ],
   "source": [
    "threshold_dist = float(input(\"Specify threshold distance for interface :\\n\"))"
   ]
  },
  {
   "cell_type": "code",
   "execution_count": 20,
   "metadata": {},
   "outputs": [],
   "source": [
    "interface_residues = interface(threshold_dist)"
   ]
  },
  {
   "cell_type": "markdown",
   "metadata": {},
   "source": [
    "###  Calculate Interface Energy"
   ]
  },
  {
   "cell_type": "markdown",
   "metadata": {},
   "source": [
    "Below we show Jelpi's structure for the code block underneath this text\n",
    "\n",
    "    for ch in structure:\n",
    "        for res in ch.get_residues():\n",
    "\n",
    "            if threshold > 0 and res not in interface[ch]:\n",
    "                continue\n",
    "            \n",
    "            /*CALCULATE ENERGIES*/\n",
    "         \n",
    "For the sake of clarity of our underlying calculations, we decided to directly do two for loops instead of implemnting _continue_ to proceed with iterating through all residues of the interface. We believe the underlying concept is more clearly seen where we iterate in the way that is done below."
   ]
  },
  {
   "cell_type": "code",
   "execution_count": 31,
   "metadata": {},
   "outputs": [],
   "source": [
    "def interface_energy_simple():\n",
    "\n",
    "    int_energy = 0\n",
    "    \n",
    "    for resA in tqdm(interface_residues[\"chain_A\"]):\n",
    "        for resB in interface_residues[\"chain_B\"]:\n",
    "        \n",
    "            ch = resA.get_parent()    # let ch be the chain we'll consider\n",
    "        \n",
    "            elec_vdw = calc_int_energies( st[0] , resB ) # electric and vanderwaals interaction between resA and resB\n",
    "            ABsolv   = calc_solvation(       st[0]      , resA ) # energetic contribution to solvation of resA in proteinA-proteinB complex\n",
    "            Asolv    = calc_solvation( st_chains[ch.id] , resA ) # energetic contribution to solvation of resA in proteinA\n",
    "        \n",
    "            # add to total energy the energetic contribution of resA in interface interaction\n",
    "            int_energy += elec_vdw[0] + elec_vdw[0]  + ABsolv[0] - Asolv[0]  \n",
    "\n",
    "    for resB in tqdm(interface_residues[\"chain_B\"]):\n",
    "        for resA in interface_residues[\"chain_A\"]:\n",
    "            \n",
    "            ch = resB.get_parent()   # let ch be the chain we'll consider\n",
    "        \n",
    "            elec_vdw = calc_int_energies( st[0] , resA ) # electric and vanderwaals interaction between resB and resA\n",
    "            ABsolv   = calc_solvation(       st[0]      , resB ) # energetic contribution to solvation of resB in proteinA-proteinB complex\n",
    "            Bsolv    = calc_solvation( st_chains[ch.id][0][ch.id][resB.id[1]] , resB ) # energetic contribution to solvation of resB in proteinB\n",
    "\n",
    "            # add to total energy the energetic contribution of resB in interface interaction\n",
    "            int_energy += elec_vdw[0] + elec_vdw[2] + ABsolv[0] - Bsolv[0]\n",
    "\n",
    "    return(int_energy)"
   ]
  },
  {
   "cell_type": "code",
   "execution_count": 33,
   "metadata": {},
   "outputs": [
    {
     "name": "stderr",
     "output_type": "stream",
     "text": [
      "  0%|          | 0/61 [01:07<?, ?it/s]\n"
     ]
    },
    {
     "ename": "KeyboardInterrupt",
     "evalue": "",
     "output_type": "error",
     "traceback": [
      "\u001b[0;31m---------------------------------------------------------------------------\u001b[0m",
      "\u001b[0;31mKeyboardInterrupt\u001b[0m                         Traceback (most recent call last)",
      "\u001b[0;32m/tmp/ipykernel_18994/3972392999.py\u001b[0m in \u001b[0;36m<module>\u001b[0;34m\u001b[0m\n\u001b[0;32m----> 1\u001b[0;31m \u001b[0mprint\u001b[0m\u001b[0;34m(\u001b[0m\u001b[0;34mf\"Interaction energy considering only interface residues at a threshold distance of {threshold_dist} Angstrom is {interface_energy_simple()}\"\u001b[0m\u001b[0;34m)\u001b[0m\u001b[0;34m\u001b[0m\u001b[0;34m\u001b[0m\u001b[0m\n\u001b[0m",
      "\u001b[0;32m/tmp/ipykernel_18994/1360518538.py\u001b[0m in \u001b[0;36minterface_energy_simple\u001b[0;34m()\u001b[0m\n\u001b[1;32m      8\u001b[0m             \u001b[0mch\u001b[0m \u001b[0;34m=\u001b[0m \u001b[0mresA\u001b[0m\u001b[0;34m.\u001b[0m\u001b[0mget_parent\u001b[0m\u001b[0;34m(\u001b[0m\u001b[0;34m)\u001b[0m    \u001b[0;31m# let ch be the chain we'll consider\u001b[0m\u001b[0;34m\u001b[0m\u001b[0;34m\u001b[0m\u001b[0m\n\u001b[1;32m      9\u001b[0m \u001b[0;34m\u001b[0m\u001b[0m\n\u001b[0;32m---> 10\u001b[0;31m             \u001b[0melec_vdw\u001b[0m \u001b[0;34m=\u001b[0m \u001b[0mcalc_int_energies\u001b[0m\u001b[0;34m(\u001b[0m \u001b[0mst\u001b[0m\u001b[0;34m[\u001b[0m\u001b[0;36m0\u001b[0m\u001b[0;34m]\u001b[0m \u001b[0;34m,\u001b[0m \u001b[0mresB\u001b[0m \u001b[0;34m)\u001b[0m \u001b[0;31m# electric and vanderwaals interaction between resA and resB\u001b[0m\u001b[0;34m\u001b[0m\u001b[0;34m\u001b[0m\u001b[0m\n\u001b[0m\u001b[1;32m     11\u001b[0m             \u001b[0mABsolv\u001b[0m   \u001b[0;34m=\u001b[0m \u001b[0mcalc_solvation\u001b[0m\u001b[0;34m(\u001b[0m       \u001b[0mst\u001b[0m\u001b[0;34m[\u001b[0m\u001b[0;36m0\u001b[0m\u001b[0;34m]\u001b[0m      \u001b[0;34m,\u001b[0m \u001b[0mresA\u001b[0m \u001b[0;34m)\u001b[0m \u001b[0;31m# energetic contribution to solvation of resA in proteinA-proteinB complex\u001b[0m\u001b[0;34m\u001b[0m\u001b[0;34m\u001b[0m\u001b[0m\n\u001b[1;32m     12\u001b[0m             \u001b[0mAsolv\u001b[0m    \u001b[0;34m=\u001b[0m \u001b[0mcalc_solvation\u001b[0m\u001b[0;34m(\u001b[0m \u001b[0mst_chains\u001b[0m\u001b[0;34m[\u001b[0m\u001b[0mch\u001b[0m\u001b[0;34m.\u001b[0m\u001b[0mid\u001b[0m\u001b[0;34m]\u001b[0m \u001b[0;34m,\u001b[0m \u001b[0mresA\u001b[0m \u001b[0;34m)\u001b[0m \u001b[0;31m# energetic contribution to solvation of resA in proteinA\u001b[0m\u001b[0;34m\u001b[0m\u001b[0;34m\u001b[0m\u001b[0m\n",
      "\u001b[0;32m/tmp/ipykernel_18994/1751140809.py\u001b[0m in \u001b[0;36mcalc_int_energies\u001b[0;34m(st, res)\u001b[0m\n\u001b[1;32m     17\u001b[0m                 \u001b[0;32mif\u001b[0m \u001b[0mat1\u001b[0m\u001b[0;34m.\u001b[0m\u001b[0mid\u001b[0m \u001b[0;32min\u001b[0m \u001b[0mala_atoms\u001b[0m\u001b[0;34m:\u001b[0m \u001b[0;31m#GLY are included implicitly\u001b[0m\u001b[0;34m\u001b[0m\u001b[0;34m\u001b[0m\u001b[0m\n\u001b[1;32m     18\u001b[0m                     \u001b[0melec_ala\u001b[0m \u001b[0;34m+=\u001b[0m \u001b[0me\u001b[0m\u001b[0;34m\u001b[0m\u001b[0;34m\u001b[0m\u001b[0m\n\u001b[0;32m---> 19\u001b[0;31m                 \u001b[0me\u001b[0m \u001b[0;34m=\u001b[0m \u001b[0mvdw_int\u001b[0m\u001b[0;34m(\u001b[0m\u001b[0mat1\u001b[0m\u001b[0;34m,\u001b[0m \u001b[0mat2\u001b[0m\u001b[0;34m,\u001b[0m \u001b[0mr\u001b[0m\u001b[0;34m)\u001b[0m\u001b[0;34m\u001b[0m\u001b[0;34m\u001b[0m\u001b[0m\n\u001b[0m\u001b[1;32m     20\u001b[0m                 \u001b[0mvdw\u001b[0m \u001b[0;34m+=\u001b[0m \u001b[0me\u001b[0m\u001b[0;34m\u001b[0m\u001b[0;34m\u001b[0m\u001b[0m\n\u001b[1;32m     21\u001b[0m                 \u001b[0;32mif\u001b[0m \u001b[0mat1\u001b[0m\u001b[0;34m.\u001b[0m\u001b[0mid\u001b[0m \u001b[0;32min\u001b[0m \u001b[0mala_atoms\u001b[0m\u001b[0;34m:\u001b[0m \u001b[0;31m#GLY are included implicitly\u001b[0m\u001b[0;34m\u001b[0m\u001b[0;34m\u001b[0m\u001b[0m\n",
      "\u001b[0;31mKeyboardInterrupt\u001b[0m: "
     ]
    }
   ],
   "source": [
    "print(f\"Interaction energy considering only interface residues at a threshold distance of {threshold_dist} Angstrom is {interface_energy_simple()}\")"
   ]
  },
  {
   "cell_type": "code",
   "execution_count": 27,
   "metadata": {},
   "outputs": [],
   "source": [
    "def calc_int_energies(st, res):\n",
    "    '''Returns interaction energies (residue against other chains)\n",
    "        for all atoms and for Ala atoms\n",
    "    '''\n",
    "    elec = 0.\n",
    "    elec_ala = 0.\n",
    "    vdw = 0.\n",
    "    vdw_ala = 0.\n",
    "\n",
    "    for at1 in res.get_atoms():\n",
    "        for at2 in st.get_atoms():\n",
    "            # skip same chain atom pairs\n",
    "            if at2.get_parent().get_parent() != res.get_parent():\n",
    "                r = at1 - at2\n",
    "                e = elec_int(at1, at2, r)\n",
    "                elec += e\n",
    "                if at1.id in ala_atoms: #GLY are included implicitly\n",
    "                    elec_ala += e\n",
    "                e = vdw_int(at1, at2, r)\n",
    "                vdw += e\n",
    "                if at1.id in ala_atoms: #GLY are included implicitly\n",
    "                    vdw_ala += e\n",
    "    return elec, elec_ala, vdw, vdw_ala"
   ]
  },
  {
   "cell_type": "code",
   "execution_count": 24,
   "metadata": {},
   "outputs": [
    {
     "name": "stderr",
     "output_type": "stream",
     "text": [
      "100%|██████████| 112/112 [02:18<00:00,  1.23s/it]\n"
     ]
    }
   ],
   "source": [
    "Ala = dict( )\n",
    "\n",
    "for res in tqdm(interface_residues[\"Total\"]):\n",
    "    ch = res.get_parent()\n",
    "    \n",
    "    int_energy  = calc_int_energies(st[0], res)\n",
    "    ABsolv      = calc_solvation( st[0], res)\n",
    "    CHsolv      = calc_solvation( st_chains[ch.id][0][ch.id][res.id[1]] , res )\n",
    "    \n",
    "    DG = int_energy[1] - int_energy[0] + int_energy[3] - int_energy[2] + ABsolv[1] - ABsolv[0] + CHsolv[1] - CHsolv[0]\n",
    "    \n",
    "    # this step of checking whether we've computed the same DG before is (more than anything) to prevent the loss of Alanines or Glycines that would all have a delta G of 0\n",
    "    if DG in Ala:\n",
    "        Ala[DG].append(f'{res.get_parent().id}, {res.resname}, {res.id[1]}, {DG}, {int_energy[1]:10f}, {int_energy[0]:10f}, {int_energy[3]:10f}, {int_energy[2]:10f}, {ABsolv[1]:10f}, {ABsolv[0]:10f}, {CHsolv[1]:10f}, {CHsolv[0]:10f}, {res}')\n",
    "    else:\n",
    "        Ala[DG] = [f'{res.get_parent().id}, {res.resname}, {res.id[1]}, {DG}, {int_energy[1]:10f}, {int_energy[0]:10f}, {int_energy[3]:10f}, {int_energy[2]:10f}, {ABsolv[1]:10f}, {ABsolv[0]:10f}, {CHsolv[1]:10f}, {CHsolv[0]:10f}, {res}']"
   ]
  },
  {
   "cell_type": "code",
   "execution_count": 488,
   "metadata": {},
   "outputs": [
    {
     "name": "stdout",
     "output_type": "stream",
     "text": [
      "Would you like to create a TSV file containing the ΔG of each residue in the interface you defined previously?\n",
      "Y\n"
     ]
    }
   ],
   "source": [
    "tsv = input(\"Would you like to create a TSV file containing the ΔG of each residue in the interface you defined previously?\\n\")"
   ]
  },
  {
   "cell_type": "code",
   "execution_count": 490,
   "metadata": {
    "scrolled": true
   },
   "outputs": [],
   "source": [
    "if tsv == \"Y\":\n",
    "    file_name = f\"{wd}/MutationalAnalysis_IntefaceOfDistance_{threshold_dist}.tsv\"\n",
    "    with open(file_name, \"w\") as f:\n",
    "        f.write('Chain, Residue, ResID,  ΔG_of_ALA_mutation, ALA_Electrostatics, Non-ALA_Electrostatics, ALA_VdW, Non-ALA_Vdw, ALA_AB Solvation, Non-ALA_AB Solvation , ALA_Chain_Solvation, Non-ALA_Chain_Solvation, Residue_Identifier\\n')\n",
    "        for DG in sorted(Ala):\n",
    "            for line in Ala[DG]:\n",
    "                f.write(line)\n",
    "                f.write('\\n')\n",
    "        file.close()"
   ]
  },
  {
   "cell_type": "code",
   "execution_count": 260,
   "metadata": {},
   "outputs": [
    {
     "name": "stdout",
     "output_type": "stream",
     "text": [
      "E, TYR, 449, -11.229097268216996,  -0.050953,   0.818172,  -0.149854,  -0.788425,  -0.171422,   5.327850,  -0.171422,   5.327850, <Residue TYR het=  resseq=449 icode= >\n",
      "E, TYR, 453, -6.010665970015246,  -0.026278,   0.034926,  -0.120213,   4.887734,   0.000000,   0.470757,   0.000000,   0.470757, <Residue TYR het=  resseq=453 icode= >\n",
      "E, VAL, 445, -3.7736334582931352,  -0.622038,  -0.053178,  -0.350741,  -0.693951,  -0.635547,   1.138445,  -0.635547,   1.138445, <Residue VAL het=  resseq=445 icode= >\n",
      "E, PHE, 486, -3.173314339644346,  -0.038136,   0.024602,  -1.480352,  -7.117907,  -0.978365,   3.395701,  -0.978365,   3.395701, <Residue PHE het=  resseq=486 icode= >\n",
      "A, MET, 82, -1.5096483705370924,   0.015375,   0.009605,  -0.236030,  -1.712731,  -0.146402,   1.349658,  -0.146402,   1.349658, <Residue MET het=  resseq=82 icode= >\n",
      "A, LEU, 79, -0.3074086770259328,   0.019698,   0.028589,  -0.824890,  -1.840071,   0.000000,   0.656849,   0.000000,   0.656849, <Residue LEU het=  resseq=79 icode= >\n",
      "E, THR, 500, -0.08623517188052143,  -1.140434,  -0.201979,  -5.635449,  -7.529277,   0.009425,   0.530229,   0.009425,   0.530229, <Residue THR het=  resseq=500 icode= >\n",
      "E, GLY, 502, 0.0,   0.199447,   0.199447,  -2.213444,  -2.213444,   0.233244,   0.233244,   0.233244,   0.233244, <Residue GLY het=  resseq=502 icode= >\n",
      "A, PHE, 28, 0.3791411753105136,   0.005590,  -0.034915,  -2.246833,  -3.558939,   0.000000,   0.486735,   0.000000,   0.486735, <Residue PHE het=  resseq=28 icode= >\n",
      "A, LEU, 45, 0.8766933215158712,  -0.044541,  -0.024262,  -0.333413,  -2.016377,   0.034580,   0.427576,   0.034580,   0.427576, <Residue LEU het=  resseq=45 icode= >\n",
      "A, HIE, 34, 1.3710706147218499,  -0.008566,  -0.095975,  -1.992597,   0.056081,  -0.084021,  -1.750191,  -0.084021,  -1.750191, <Residue HIE het=  resseq=34 icode= >\n",
      "E, PHE, 456, 1.7098081579231752,  -0.024479,   0.023441,  -0.412949,  -3.844113,  -0.005136,   0.831582,  -0.005136,   0.831582, <Residue PHE het=  resseq=456 icode= >\n",
      "E, ASN, 487, 1.79137989034431,   0.053125,   0.187329,  -1.520665,  -2.225592,  -0.134747,  -0.745075,  -0.134747,  -0.745075, <Residue ASN het=  resseq=487 icode= >\n",
      "E, TYR, 473, 1.9444584882734388,  -0.017211,   0.037145,  -0.213969,  -1.214273,   0.036081,  -0.463174,   0.036081,  -0.463174, <Residue TYR het=  resseq=473 icode= >\n",
      "A, ARG, 357, 2.0342861546377065,   0.010220,   0.364280,  -0.071229,  -1.492651,   0.000000,  -0.483462,   0.000000,  -0.483462, <Residue ARG het=  resseq=357 icode= >\n",
      "A, ARG, 393, 2.182399286467451,   0.012146,   0.440111,  -0.030649,  -0.705721,  -0.337356,  -1.305002,  -0.337356,  -1.305002, <Residue ARG het=  resseq=393 icode= >\n",
      "A, ASP, 355, 2.56709342012342,  -0.044627,  -0.655640,  -2.401293,  -4.281611,   0.055854,   0.017973,   0.055854,   0.017973, <Residue ASP het=  resseq=355 icode= >\n",
      "A, GLN, 42, 2.612037567311024,  -0.010071,   0.362047,  -0.504206,  -2.134939,   0.168529,  -0.508182,   0.168529,  -0.508182, <Residue GLN het=  resseq=42 icode= >\n",
      "E, GLU, 484, 2.675677798533485,   0.225508,   3.514359,  -0.183818,  -0.744342,  -0.915462,  -3.617464,  -0.915462,  -3.617464, <Residue GLU het=  resseq=484 icode= >\n",
      "A, ASP, 38, 2.923567636862783,  -0.067346,   0.225469,  -1.061398,  -2.642960,   0.244549,  -0.572861,   0.244549,  -0.572861, <Residue ASP het=  resseq=38 icode= >\n",
      "E, GLN, 493, 3.2050938233275494,   0.010175,   0.387084,  -0.804406,  -3.557245,   0.011628,  -0.402954,   0.011628,  -0.402954, <Residue GLN het=  resseq=493 icode= >\n",
      "A, SER, 19, 3.2663354054245937,  -0.074423,   0.259905,  -0.830922,  -0.912379,  -2.050706,  -3.810309,  -2.050706,  -3.810309, <Residue SER het=  resseq=19 icode= >\n",
      "A, ASN, 330, 3.4465173337424964,  -0.011872,   0.085514,  -0.421344,  -2.163759,  -0.053318,  -0.954062,  -0.053318,  -0.954062, <Residue ASN het=  resseq=330 icode= >\n",
      "E, LYS, 417, 3.4488490186833456,  -0.147596,  -1.311491,  -0.185377,  -1.750049,  -0.247231,  -0.607372,  -0.247231,  -0.607372, <Residue LYS het=  resseq=417 icode= >\n",
      "E, ASN, 501, 3.744756209708809,   0.294848,   0.030695,  -4.657270,  -8.022305,  -0.127596,  -0.185380,  -0.127596,  -0.185380, <Residue ASN het=  resseq=501 icode= >\n",
      "A, GLN, 24, 3.7705471256001903,  -0.053184,   0.395151,  -2.288788,  -3.112696,   0.005434,  -1.692053,   0.005434,  -1.692053, <Residue GLN het=  resseq=24 icode= >\n",
      "A, LYS, 31, 4.004176893831584,   0.036609,   0.873159,  -3.115153,  -7.540921,   0.000000,  -0.207479,   0.000000,  -0.207479, <Residue LYS het=  resseq=31 icode= >\n",
      "A, ASP, 30, 4.084711398631702,  -0.038317,   1.407245,  -0.642909,  -2.860572,  -0.019377,  -1.675682,  -0.019377,  -1.675682, <Residue ASP het=  resseq=30 icode= >\n",
      "E, GLN, 498, 4.107950022903374,  -0.021637,   0.494704,  -1.667749,  -6.314042,   0.008873,   0.019874,   0.008873,   0.019874, <Residue GLN het=  resseq=498 icode= >\n",
      "A, GLU, 37, 4.268019357942439,  -0.073179,  -0.540833,  -0.500913,  -2.479915,   0.081460,  -0.829221,   0.081460,  -0.829221, <Residue GLU het=  resseq=37 icode= >\n",
      "E, TYR, 505, 4.294292633906354,  -0.004216,  -0.018852,  -1.995430,  -9.555176,  -0.033881,   1.606164,  -0.033881,   1.606164, <Residue TYR het=  resseq=505 icode= >\n",
      "A, TYR, 83, 4.450571550346023,   0.004410,  -0.243352,  -0.317088,  -4.514915,   0.000000,  -0.002491,   0.000000,  -0.002491, <Residue TYR het=  resseq=83 icode= >\n",
      "A, THR, 27, 4.48334253159849,   0.183654,   0.089743,  -3.475678,  -6.329319,   0.050331,  -0.717564,   0.050331,  -0.717564, <Residue THR het=  resseq=27 icode= >\n",
      "E, TYR, 489, 4.571911411895956,  -0.168846,  -0.270660,  -0.987723,  -8.734473,   0.000912,   1.639238,   0.000912,   1.639238, <Residue TYR het=  resseq=489 icode= >\n",
      "A, LYS, 353, 4.806785891488107,   0.475238,   1.598857,  -5.225065, -10.843533,  -0.226300,  -0.382268,  -0.226300,  -0.382268, <Residue LYS het=  resseq=353 icode= >\n",
      "A, GLU, 35, 5.132809038714072,  -0.038974,   0.092680,  -0.616092,  -1.940622,   0.007664,  -1.962302,   0.007664,  -1.962302, <Residue GLU het=  resseq=35 icode= >\n",
      "E, LEU, 455, 5.215783016249977,   0.138516,  -0.092863,  -0.833945,  -5.818349,   0.000000,   0.000000,   0.000000,   0.000000, <Residue LEU het=  resseq=455 icode= >\n",
      "A, TYR, 41, 6.298972221684497,   0.018907,  -0.215072,  -0.636935,  -6.701928,   0.000000,   0.000000,   0.000000,   0.000000, <Residue TYR het=  resseq=41 icode= >\n"
     ]
    }
   ],
   "source": [
    "for DG in sorted(Ala):\n",
    "    print(Ala[DG]+'\\n', end =\"\")\n"
   ]
  },
  {
   "cell_type": "code",
   "execution_count": null,
   "metadata": {},
   "outputs": [],
   "source": []
  },
  {
   "cell_type": "markdown",
   "metadata": {},
   "source": [
    "### Determine the energy contribution of sequentially further residues\n",
    "Imagine we wanted to know (starting from the closest resA-resB pair) what the energy contribution of each residue is. This step is quite straightforward, instead of calculating the interface interaction energy once, we will do so for \n",
    "\n",
    "We will utilize the function *calc_int_energies()* as a template, and create a function that will work much the same, except this time we will be utilizing an interface that will be continuosly updated with the next residue pair with smallest distance"
   ]
  },
  {
   "cell_type": "code",
   "execution_count": 491,
   "metadata": {},
   "outputs": [],
   "source": [
    "def calc_temp_energy( ):\n",
    "    energy_contribution = 0\n",
    "    \n",
    "    for resA, resB, dist in tqdm(temp_interf[\"chainA\"]):\n",
    "            \n",
    "        ch = resA.get_parent()\n",
    "    \n",
    "        int_energy  = calc_int_energies(st[0], resA)\n",
    "        ABsolv      = calc_solvation( st[0], resA)\n",
    "        CHsolv      = calc_solvation( st_chains[ch.id][0][ch.id][resA.id[1]] , resA )\n",
    "    \n",
    "        DG = int_energy[1] - int_energy[0] + int_energy[3] - int_energy[2] + ABsolv[1] - ABsolv[0] + CHsolv[1] - CHsolv[0]\n",
    "        \n",
    "        energy_contribution = int_energy[0] + int_energy[2] + ABsolv[0] - CHsolv[0] #This represents the energetic contribution to interaction energy of resA\n",
    "\n",
    "        \n",
    "        line =  f'{resA.get_parent().id}, {resA.resname}, {resA.id[1]}, {DG},'\n",
    "        line += f' {int_energy[1]:10f}, {int_energy[0]:10f}, {int_energy[3]:10f},' \n",
    "        line += f' {int_energy[2]:10f}, {ABsolv[1]:10f}, {ABsolv[0]:10f}, {CHsolv[1]:10f}, {CHsolv[0]:10f},'\n",
    "        line += f' {resA.get_parent().id}, {resA.id[1]}, {resA.resname}, {resB.get_parent().id}, {resB.id[1]}, {resB.resname}, {energy_contribution:.5e}, {dist}'\n",
    "        \n",
    "        temp_interf['holder'][resA] = line\n",
    "    \n",
    "    \n",
    "    for resB, resA, dist in tqdm(temp_interf[\"chainB\"]):\n",
    "            \n",
    "        ch = resB.get_parent()\n",
    "        \n",
    "        int_energy  = calc_int_energies(st[0], resB)\n",
    "        ABsolv      = calc_solvation( st[0], resB)\n",
    "        CHsolv      = calc_solvation( st_chains[ch.id][0][ch.id][resB.id[1]] , resB )\n",
    "        \n",
    "        DG = int_energy[1] - int_energy[0] + int_energy[3] - int_energy[2] + ABsolv[1] - ABsolv[0] + CHsolv[1] - CHsolv[0]\n",
    "            \n",
    "        energy_contribution = int_energy[0] + int_energy[2] + ABsolv[0] - CHsolv[0] #This represents the energetic contribution to interaction energy of resB\n",
    "\n",
    "        line =  f'{resB.get_parent().id}, {resB.resname}, {resB.id[1]}, {DG},'\n",
    "        line += f' {int_energy[1]:10f}, {int_energy[0]:10f}, {int_energy[3]:10f},' \n",
    "        line += f' {int_energy[2]:10f}, {ABsolv[1]:10f}, {ABsolv[0]:10f}, {CHsolv[1]:10f}, {CHsolv[0]:10f},'\n",
    "        line += f' {resA.get_parent().id}, {resA.id[1]}, {resA.resname}, {resB.get_parent().id}, {resB.id[1]}, {resB.resname}, {energy_contribution:.5e}, {dist}'\n",
    "        \n",
    "        temp_interf['holder'][resB] = line\n",
    "        \n"
   ]
  },
  {
   "cell_type": "markdown",
   "metadata": {},
   "source": [
    "Below we see an object *temp_interf* which will serve as the repository for consequtively furhter residues. We will iterate across all resA-resB pairs, more concretely we will iterate across a sorted list of distances corresponding to resA-resB pairs.\n",
    "\n",
    "If at any point one of the residues within the pair has not been seen before, we add both of them to their respective lists of _'chainA'_ and _'chainB'_, and most importantly we add them to the set of previously seen residues _'tot'_.\n",
    "\n",
    "By the end of the following code block, we will have a list of residues in order of progressively further distances between the given residue and any pair of residues seen before."
   ]
  },
  {
   "cell_type": "code",
   "execution_count": 492,
   "metadata": {},
   "outputs": [],
   "source": [
    "temp_interf = {'tot' : set(), 'chainA' : [], 'chainB' : [], 'out' : [], 'holder' : dict()}\n",
    "\n",
    "\n",
    "for dist in sorted(d_pairs):\n",
    "    for resA, resB in d_pairs[dist]:\n",
    "        A, B = False, False\n",
    "        \n",
    "        if resA not in temp_interf['tot']:\n",
    "            A = True\n",
    "            temp_interf['out'].append(resA)\n",
    "            temp_interf['chainA'].append((resA, resB, dist))\n",
    "            temp_interf['holder'][resA] = None\n",
    "            \n",
    "                \n",
    "        if resB not in temp_interf['tot']:\n",
    "            B = True\n",
    "            temp_interf['out'].append(resB)\n",
    "            temp_interf['chainB'].append((resB, resA, dist))\n",
    "            temp_interf['holder'][resB] = None\n",
    "            \n",
    "        \n",
    "        if A or B:\n",
    "            temp_interf['tot'].add(resA)\n",
    "            temp_interf['tot'].add(resB)"
   ]
  },
  {
   "cell_type": "code",
   "execution_count": 493,
   "metadata": {},
   "outputs": [
    {
     "name": "stderr",
     "output_type": "stream",
     "text": [
      "100%|██████████| 597/597 [07:00<00:00,  1.42it/s]\n",
      "100%|██████████| 194/194 [06:01<00:00,  1.86s/it]\n"
     ]
    }
   ],
   "source": [
    "calc_temp_energy( )"
   ]
  },
  {
   "cell_type": "code",
   "execution_count": 494,
   "metadata": {},
   "outputs": [],
   "source": [
    "first_line = 'Chain, Residue, ResID,  ΔG_of_ALA_mutation, '\n",
    "first_line += 'ALA_Electrostatics, Non-ALA_Electrostatics, ALA_VdW, Non-ALA_Vdw, '\n",
    "first_line += 'ALA_AB_Solvation, Non-ALA_AB_Solvation , ALA_Chain_Solvation, Non-ALA_Chain_Solvation, Residue_Identifier, '\n",
    "first_line += 'ChainA, ResidueA, ResIDA, ChainB, ResidueB, Contributing_Interaction_Energy, Threshold_Distance\\n'\n",
    "\n",
    "file_name = f\"{wd}/SequentialIntroductionThroughDistance.tsv\"\n",
    "\n",
    "with open(file_name, \"w\") as f:\n",
    "    f.write(first_line)\n",
    "    for res in temp_interf['out']:\n",
    "        f.write(temp_interf['holder'][res] + '\\n')\n"
   ]
  },
  {
   "cell_type": "markdown",
   "metadata": {},
   "source": [
    "## Considering differnce in interaction energy of mutations purely inside of the interface\n",
    "\n",
    "Imagine we would want to understand the energetic contribution of each residue-residue interaction between chains at the interface level. See that the function _calc_int_energy_  from Gelpí's code base calculates the energy of a specified residue agains the entire opposite chain. For this, we will use our own *residue_interaction_energy* function."
   ]
  },
  {
   "cell_type": "markdown",
   "metadata": {},
   "source": [
    "\n",
    "ALA and ALA_ref will store the energetic contribution \n",
    "of each considered residue on the interface. \n",
    "    \n",
    "ALA will store the energetic contribution of mutated residueA.\n",
    "We will look at all residueA-residueB pairs where residueA \n",
    "has been \"mutated\" to Alanine by computing the energetic\n",
    "contribution when we discard non-Alanine atoms of the residue.\n",
    "    \n",
    "ALA_ref will be a reference table to check the unmutated energetic\n",
    "contribution of residueA to the interaction energy.\n"
   ]
  },
  {
   "cell_type": "code",
   "execution_count": 228,
   "metadata": {},
   "outputs": [],
   "source": [
    "ALA = dict()\n",
    "ALA_ref = dict()\n",
    "interf_energy = 0"
   ]
  },
  {
   "cell_type": "markdown",
   "metadata": {},
   "source": [
    "The following code block will generate the necessary information to compute the desired"
   ]
  },
  {
   "cell_type": "code",
   "execution_count": 229,
   "metadata": {},
   "outputs": [
    {
     "name": "stderr",
     "output_type": "stream",
     "text": [
      "100%|██████████| 61/61 [00:09<00:00,  6.32it/s]\n",
      "100%|██████████| 51/51 [00:09<00:00,  5.30it/s]\n"
     ]
    }
   ],
   "source": [
    "for resA in tqdm(interface_residues[\"chain_A\"]):\n",
    "    for resB in interface_residues[\"chain_B\"]:\n",
    "        \n",
    "        ch = resA.get_parent()    # let ch be the chain we'll consider\n",
    "        \n",
    "        elec_vdw = residue_interaction_energy( resA , resB ) # electric and vanderwaals interaction between resA and resB\n",
    "        ABsolv   = calc_solvation(       st[0]      , resA ) # energetic contribution to solvation of resA in proteinA-proteinB complex\n",
    "        Asolv    = calc_solvation( st_chains[ch.id] , resA ) # energetic contribution to solvation of resA in proteinA\n",
    "        \n",
    "        if resA not in ALA:\n",
    "            ALA[resA]     = dict()\n",
    "            ALA_ref[resA] = dict()\n",
    "\n",
    "        # record the interaction energy components of Alanine mutation on resA\n",
    "        ALA[resA][resB]     = {   'elec' : elec_vdw[1]['elec'], \n",
    "                                   'vdw' : elec_vdw[1]['vdw' ],\n",
    "                                'ABsolv' :   ABsolv[1], \n",
    "                                'CHsolv' :    Asolv[1], \n",
    "                                 'Total' : elec_vdw[1]['elec'] + elec_vdw[1]['vdw' ] + ABsolv[1] - Asolv[1] \n",
    "                                }\n",
    "        \n",
    "        # record the interaction energy components for non-mutated resA\n",
    "        ALA_ref[resA][resB] = {   'elec' : elec_vdw[0]['elec'], \n",
    "                                   'vdw' : elec_vdw[0]['vdw' ],\n",
    "                                'ABsolv' :   ABsolv[0], \n",
    "                                'CHsolv' :    Asolv[0], \n",
    "                                 'Total' : elec_vdw[0]['elec'] + elec_vdw[0]['vdw' ] + ABsolv[0] - Asolv[0] \n",
    "                                }\n",
    "\n",
    "        # add to total energy the energetic contribution of resA in interface interaction\n",
    "        interf_energy += elec_vdw[0]['elec'] + elec_vdw[0]['vdw']  + ABsolv[0] - Asolv[0]  \n",
    "\n",
    "for resB in tqdm(interface_residues[\"chain_B\"]):\n",
    "    for resA in interface_residues[\"chain_A\"]:\n",
    "            \n",
    "        ch = resB.get_parent()   # let ch be the chain we'll consider\n",
    "        \n",
    "        elec_vdw = residue_interaction_energy( resB , resA ) # electric and vanderwaals interaction between resB and resA\n",
    "        ABsolv   = calc_solvation(       st[0]      , resB ) # energetic contribution to solvation of resB in proteinA-proteinB complex\n",
    "        Bsolv    = calc_solvation( st_chains[ch.id][0][ch.id][resB.id[1]] , resB ) # energetic contribution to solvation of resB in proteinB\n",
    "\n",
    "        if resB not in ALA:\n",
    "            ALA[resB]     = dict()\n",
    "            ALA_ref[resB] = dict()\n",
    "        \n",
    "        # record the interaction energy components of Alanine mutation on resB\n",
    "        ALA[resB][resA]     = {   'elec' : elec_vdw[1]['elec'], \n",
    "                                   'vdw' : elec_vdw[1]['vdw' ],\n",
    "                                'ABsolv' :   ABsolv[1], \n",
    "                                'CHsolv' :    Bsolv[1], \n",
    "                                 'Total' : elec_vdw[1]['elec'] + elec_vdw[1]['vdw' ] + ABsolv[1] - Bsolv[1] \n",
    "                                }\n",
    "        # record the interaction energy components of non-mutated resB\n",
    "        ALA_ref[resB][resA] = {   'elec' :   elec[0]['elec'], \n",
    "                                   'vdw' :    vdw[0]['vdw' ],\n",
    "                                'ABsolv' : ABsolv[0], \n",
    "                                'CHsolv' :  Bsolv[0], \n",
    "                                 'Total' :   elec_vdw[0]['elec'] + elec_vdw[0]['vdw' ] + ABsolv[0] - Bsolv[0] \n",
    "                              }\n",
    "\n",
    "        # add to total energy the energetic contribution of resB in interface interaction\n",
    "        interf_energy += elec_vdw[0]['elec'] + elec_vdw[0]['vdw'] + ABsolv[0] - Bsolv[0]"
   ]
  },
  {
   "cell_type": "markdown",
   "metadata": {},
   "source": [
    "#### Quantifying Energetic contribution of mutations of interface, on interface energy\n",
    "\n",
    "The following two code blocks will"
   ]
  },
  {
   "cell_type": "code",
   "execution_count": 230,
   "metadata": {},
   "outputs": [],
   "source": [
    "mutation_effect = dict()\n",
    "\n",
    "for rA in ALA:\n",
    "    mutation_energy = 0\n",
    "    for rB in ALA[rA]:\n",
    "        # calculate the energy associated with a mutation by accessing the precomputed values in ALA and ALA_ref\n",
    "        residue = ALA_ref[rA][rB], ALA[rA][rB]\n",
    "        mutation_energy += residue[1][\"Total\"] - residue[0][\"Total\"]\n",
    "    \n",
    "    if mutation_energy in mutation_effect:\n",
    "        mutation_effect[mutation_energy].add( (rA, f\"{rA.get_resname()} {rA.id[1]}\" , rA.get_parent().id) )\n",
    "    else:\n",
    "        mutation_effect[mutation_energy] = {(rA, f\"{rA.get_resname()} {rA.id[1]}\" , rA.get_parent().id)}"
   ]
  },
  {
   "cell_type": "code",
   "execution_count": 231,
   "metadata": {},
   "outputs": [
    {
     "name": "stdout",
     "output_type": "stream",
     "text": [
      "-5.059877861162056 (<Residue TYR het=  resseq=453 icode= >, 'TYR 453', 'E')\n",
      "-2.072548908596613 (<Residue HIE het=  resseq=34 icode= >, 'HIE 34', 'A')\n",
      "-0.5982479548902875 (<Residue GLU het=  resseq=484 icode= >, 'GLU 484', 'E')\n",
      "-0.4604370171376484 (<Residue LYS het=  resseq=26 icode= >, 'LYS 26', 'A')\n",
      "-0.4494323146889567 (<Residue GLU het=  resseq=406 icode= >, 'GLU 406', 'E')\n",
      "-0.34211523649278197 (<Residue SER het=  resseq=19 icode= >, 'SER 19', 'A')\n",
      "-0.2856942974799548 (<Residue ASP het=  resseq=405 icode= >, 'ASP 405', 'E')\n",
      "-0.2701932350159772 (<Residue TYR het=  resseq=449 icode= >, 'TYR 449', 'E')\n",
      "-0.13129095347856562 (<Residue SER het=  resseq=443 icode= >, 'SER 443', 'E')\n",
      "-0.07712264202187213 (<Residue SER het=  resseq=494 icode= >, 'SER 494', 'E')\n",
      "-0.06815914430902886 (<Residue PRO het=  resseq=389 icode= >, 'PRO 389', 'A')\n",
      "-0.0644207676876149 (<Residue THR het=  resseq=478 icode= >, 'THR 478', 'E')\n",
      "-0.02234616409392698 (<Residue PRO het=  resseq=84 icode= >, 'PRO 84', 'A')\n",
      "-0.012647630455354105 (<Residue SER het=  resseq=477 icode= >, 'SER 477', 'E')\n",
      "-0.00957085749413156 (<Residue CYX het=  resseq=488 icode= >, 'CYX 488', 'E')\n",
      "0.0 (<Residue ALA het=  resseq=386 icode= >, 'ALA 386', 'A')\n",
      "0.0 (<Residue GLY het=  resseq=352 icode= >, 'GLY 352', 'A')\n",
      "0.0 (<Residue ALA het=  resseq=36 icode= >, 'ALA 36', 'A')\n",
      "0.0 (<Residue GLY het=  resseq=485 icode= >, 'GLY 485', 'E')\n",
      "0.0 (<Residue ALA het=  resseq=387 icode= >, 'ALA 387', 'A')\n",
      "0.0 (<Residue GLY het=  resseq=447 icode= >, 'GLY 447', 'E')\n",
      "0.0 (<Residue GLY het=  resseq=496 icode= >, 'GLY 496', 'E')\n",
      "0.0 (<Residue GLY het=  resseq=446 icode= >, 'GLY 446', 'E')\n",
      "0.0 (<Residue ALA het=  resseq=46 icode= >, 'ALA 46', 'A')\n",
      "0.0 (<Residue GLY het=  resseq=354 icode= >, 'GLY 354', 'A')\n",
      "0.0 (<Residue GLY het=  resseq=502 icode= >, 'GLY 502', 'E')\n",
      "0.0 (<Residue ALA het=  resseq=25 icode= >, 'ALA 25', 'A')\n",
      "0.0 (<Residue GLY het=  resseq=476 icode= >, 'GLY 476', 'E')\n",
      "0.0 (<Residue GLY het=  resseq=326 icode= >, 'GLY 326', 'A')\n",
      "0.0 (<Residue ALA het=  resseq=475 icode= >, 'ALA 475', 'E')\n",
      "0.0 (<Residue ALA het=  resseq=80 icode= >, 'ALA 80', 'A')\n",
      "0.0 (<Residue GLY het=  resseq=504 icode= >, 'GLY 504', 'E')\n",
      "0.011026526887483179 (<Residue GLN het=  resseq=81 icode= >, 'GLN 81', 'A')\n",
      "0.01408176997147012 (<Residue LEU het=  resseq=97 icode= >, 'LEU 97', 'A')\n",
      "0.014528324784694631 (<Residue ILE het=  resseq=418 icode= >, 'ILE 418', 'E')\n",
      "0.021080142026183094 (<Residue GLN het=  resseq=101 icode= >, 'GLN 101', 'A')\n",
      "0.02351216015806902 (<Residue GLN het=  resseq=388 icode= >, 'GLN 388', 'A')\n",
      "0.025538505534065933 (<Residue LEU het=  resseq=29 icode= >, 'LEU 29', 'A')\n",
      "0.040684358297237454 (<Residue PHE het=  resseq=327 icode= >, 'PHE 327', 'A')\n",
      "0.04345958521569889 (<Residue GLN het=  resseq=409 icode= >, 'GLN 409', 'E')\n",
      "0.05578747767356185 (<Residue ASN het=  resseq=448 icode= >, 'ASN 448', 'E')\n",
      "0.07202584100711737 (<Residue PHE het=  resseq=40 icode= >, 'PHE 40', 'A')\n",
      "0.07272851138656486 (<Residue LEU het=  resseq=39 icode= >, 'LEU 39', 'A')\n",
      "0.07449416899173941 (<Residue MET het=  resseq=383 icode= >, 'MET 383', 'A')\n",
      "0.08554421709231226 (<Residue LEU het=  resseq=492 icode= >, 'LEU 492', 'E')\n",
      "0.08570909938398041 (<Residue GLN het=  resseq=474 icode= >, 'GLN 474', 'E')\n",
      "0.08875392908059608 (<Residue ASN het=  resseq=439 icode= >, 'ASN 439', 'E')\n",
      "0.09272793539189678 (<Residue PHE het=  resseq=390 icode= >, 'PHE 390', 'A')\n",
      "0.09828927972400486 (<Residue ASN het=  resseq=33 icode= >, 'ASN 33', 'A')\n",
      "0.10275888722397672 (<Residue ASN het=  resseq=49 icode= >, 'ASN 49', 'A')\n",
      "0.10369425101222636 (<Residue PHE het=  resseq=32 icode= >, 'PHE 32', 'A')\n",
      "0.11950859698506944 (<Residue SER het=  resseq=331 icode= >, 'SER 331', 'A')\n",
      "0.11991350060547346 (<Residue SER het=  resseq=43 icode= >, 'SER 43', 'A')\n",
      "0.12186928378558715 (<Residue PHE het=  resseq=490 icode= >, 'PHE 490', 'E')\n",
      "0.12896679100330366 (<Residue PRO het=  resseq=491 icode= >, 'PRO 491', 'E')\n",
      "0.13195897432552434 (<Residue SER het=  resseq=44 icode= >, 'SER 44', 'A')\n",
      "0.14074716216885774 (<Residue ARG het=  resseq=393 icode= >, 'ARG 393', 'A')\n",
      "0.1453101638127813 (<Residue TRP het=  resseq=48 icode= >, 'TRP 48', 'A')\n",
      "0.14541567131056335 (<Residue THR het=  resseq=78 icode= >, 'THR 78', 'A')\n",
      "0.1517904615465556 (<Residue PRO het=  resseq=507 icode= >, 'PRO 507', 'E')\n",
      "0.16909950273057037 (<Residue GLN het=  resseq=76 icode= >, 'GLN 76', 'A')\n",
      "0.17801575492211108 (<Residue VAL het=  resseq=445 icode= >, 'VAL 445', 'E')\n",
      "0.18057610760898746 (<Residue LYS het=  resseq=417 icode= >, 'LYS 417', 'E')\n",
      "0.19072924790326262 (<Residue LEU het=  resseq=351 icode= >, 'LEU 351', 'A')\n",
      "0.20267417663667375 (<Residue TYR het=  resseq=421 icode= >, 'TYR 421', 'E')\n",
      "0.20453980623335566 (<Residue THR het=  resseq=20 icode= >, 'THR 20', 'A')\n",
      "0.22628595389434847 (<Residue ILE het=  resseq=21 icode= >, 'ILE 21', 'A')\n",
      "0.23054321248407542 (<Residue PHE het=  resseq=497 icode= >, 'PHE 497', 'E')\n",
      "0.2568819635280065 (<Residue VAL het=  resseq=503 icode= >, 'VAL 503', 'E')\n",
      "0.25809196728804673 (<Residue TYR het=  resseq=495 icode= >, 'TYR 495', 'E')\n",
      "0.2645467735399394 (<Residue GLN het=  resseq=325 icode= >, 'GLN 325', 'A')\n",
      "0.29633094269743276 (<Residue PHE het=  resseq=356 icode= >, 'PHE 356', 'A')\n",
      "0.3145169768873749 (<Residue PRO het=  resseq=499 icode= >, 'PRO 499', 'E')\n",
      "0.3429675763252838 (<Residue GLN het=  resseq=24 icode= >, 'GLN 24', 'A')\n",
      "0.36151384682718335 (<Residue THR het=  resseq=324 icode= >, 'THR 324', 'A')\n",
      "0.37298844899230094 (<Residue GLN het=  resseq=506 icode= >, 'GLN 506', 'E')\n",
      "0.40290507344803683 (<Residue ARG het=  resseq=457 icode= >, 'ARG 457', 'E')\n",
      "0.43149370359736994 (<Residue GLU het=  resseq=75 icode= >, 'GLU 75', 'A')\n",
      "0.4509948342182416 (<Residue ASN het=  resseq=487 icode= >, 'ASN 487', 'E')\n",
      "0.45921402403864464 (<Residue ARG het=  resseq=408 icode= >, 'ARG 408', 'E')\n",
      "0.5002676628891114 (<Residue ARG het=  resseq=454 icode= >, 'ARG 454', 'E')\n",
      "0.650122668400841 (<Residue LYS het=  resseq=444 icode= >, 'LYS 444', 'E')\n",
      "0.6571729350803197 (<Residue GLU het=  resseq=23 icode= >, 'GLU 23', 'A')\n",
      "0.6801368338611221 (<Residue GLU het=  resseq=329 icode= >, 'GLU 329', 'A')\n",
      "0.9128588037886632 (<Residue ASP het=  resseq=30 icode= >, 'ASP 30', 'A')\n",
      "0.9743017436922595 (<Residue TYR het=  resseq=473 icode= >, 'TYR 473', 'E')\n",
      "0.9747022304328191 (<Residue LEU het=  resseq=79 icode= >, 'LEU 79', 'A')\n",
      "1.0242334909175201 (<Residue ARG het=  resseq=357 icode= >, 'ARG 357', 'A')\n",
      "1.2372532179475384 (<Residue GLN het=  resseq=42 icode= >, 'GLN 42', 'A')\n",
      "1.2815853815408331 (<Residue GLU het=  resseq=35 icode= >, 'GLU 35', 'A')\n",
      "1.2983982772771565 (<Residue ASP het=  resseq=38 icode= >, 'ASP 38', 'A')\n",
      "1.3356890443467717 (<Residue PHE het=  resseq=28 icode= >, 'PHE 28', 'A')\n",
      "1.4787560772898194 (<Residue MET het=  resseq=82 icode= >, 'MET 82', 'A')\n",
      "1.5207466237410507 (<Residue ARG het=  resseq=403 icode= >, 'ARG 403', 'E')\n",
      "1.6319962828293562 (<Residue ASN het=  resseq=330 icode= >, 'ASN 330', 'A')\n",
      "1.64830726951085 (<Residue LEU het=  resseq=45 icode= >, 'LEU 45', 'A')\n",
      "1.8683644478546635 (<Residue THR het=  resseq=500 icode= >, 'THR 500', 'E')\n",
      "2.3136153858986632 (<Residue GLN het=  resseq=493 icode= >, 'GLN 493', 'E')\n",
      "2.5050790007265586 (<Residue GLU het=  resseq=37 icode= >, 'GLU 37', 'A')\n",
      "2.508479372316556 (<Residue ASP het=  resseq=355 icode= >, 'ASP 355', 'A')\n",
      "2.9751284945819974 (<Residue THR het=  resseq=27 icode= >, 'THR 27', 'A')\n",
      "3.334389777303273 (<Residue LYS het=  resseq=31 icode= >, 'LYS 31', 'A')\n",
      "3.3488392920579426 (<Residue PHE het=  resseq=456 icode= >, 'PHE 456', 'E')\n",
      "3.5219052730135565 (<Residue ASN het=  resseq=501 icode= >, 'ASN 501', 'E')\n",
      "4.067403524666902 (<Residue GLN het=  resseq=498 icode= >, 'GLN 498', 'E')\n",
      "4.371685377344224 (<Residue LYS het=  resseq=353 icode= >, 'LYS 353', 'A')\n",
      "4.427126005993909 (<Residue TYR het=  resseq=83 icode= >, 'TYR 83', 'A')\n",
      "4.948243118495367 (<Residue LEU het=  resseq=455 icode= >, 'LEU 455', 'E')\n",
      "5.4941451457623325 (<Residue PHE het=  resseq=486 icode= >, 'PHE 486', 'E')\n",
      "6.261655500702133 (<Residue TYR het=  resseq=41 icode= >, 'TYR 41', 'A')\n",
      "7.477481661869303 (<Residue TYR het=  resseq=505 icode= >, 'TYR 505', 'E')\n",
      "7.793514629081494 (<Residue TYR het=  resseq=489 icode= >, 'TYR 489', 'E')\n"
     ]
    }
   ],
   "source": [
    "for mutation_energy in sorted(mutation_effect):\n",
    "    for mres in mutation_effect[mutation_energy]:\n",
    "        print(mutation_energy, mres)"
   ]
  },
  {
   "cell_type": "code",
   "execution_count": null,
   "metadata": {},
   "outputs": [],
   "source": []
  }
 ],
 "metadata": {
  "kernelspec": {
   "display_name": "Python 3 (ipykernel)",
   "language": "python",
   "name": "python3"
  },
  "language_info": {
   "codemirror_mode": {
    "name": "ipython",
    "version": 3
   },
   "file_extension": ".py",
   "mimetype": "text/x-python",
   "name": "python",
   "nbconvert_exporter": "python",
   "pygments_lexer": "ipython3",
   "version": "3.10.6"
  }
 },
 "nbformat": 4,
 "nbformat_minor": 4
}
